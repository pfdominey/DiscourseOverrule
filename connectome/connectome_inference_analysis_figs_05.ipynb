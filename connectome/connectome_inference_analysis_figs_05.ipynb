{
 "cells": [
  {
   "cell_type": "code",
   "execution_count": 1,
   "metadata": {},
   "outputs": [
    {
     "name": "stderr",
     "output_type": "stream",
     "text": [
      "\n",
      "Bad key text.latex.preview in file C:\\Users\\PeterDell\\anaconda3\\lib\\site-packages\\matplotlib\\mpl-data\\stylelib\\_classic_test.mplstyle, line 123 ('text.latex.preview : False')\n",
      "You probably need to get an updated matplotlibrc file from\n",
      "https://github.com/matplotlib/matplotlib/blob/v3.5.3/matplotlibrc.template\n",
      "or from the matplotlib source distribution\n",
      "\n",
      "Bad key mathtext.fallback_to_cm in file C:\\Users\\PeterDell\\anaconda3\\lib\\site-packages\\matplotlib\\mpl-data\\stylelib\\_classic_test.mplstyle, line 155 ('mathtext.fallback_to_cm : True  # When True, use symbols from the Computer Modern')\n",
      "You probably need to get an updated matplotlibrc file from\n",
      "https://github.com/matplotlib/matplotlib/blob/v3.5.3/matplotlibrc.template\n",
      "or from the matplotlib source distribution\n",
      "\n",
      "Bad key savefig.jpeg_quality in file C:\\Users\\PeterDell\\anaconda3\\lib\\site-packages\\matplotlib\\mpl-data\\stylelib\\_classic_test.mplstyle, line 418 ('savefig.jpeg_quality: 95       # when a jpeg is saved, the default quality parameter.')\n",
      "You probably need to get an updated matplotlibrc file from\n",
      "https://github.com/matplotlib/matplotlib/blob/v3.5.3/matplotlibrc.template\n",
      "or from the matplotlib source distribution\n",
      "\n",
      "Bad key keymap.all_axes in file C:\\Users\\PeterDell\\anaconda3\\lib\\site-packages\\matplotlib\\mpl-data\\stylelib\\_classic_test.mplstyle, line 466 ('keymap.all_axes : a                 # enable all axes')\n",
      "You probably need to get an updated matplotlibrc file from\n",
      "https://github.com/matplotlib/matplotlib/blob/v3.5.3/matplotlibrc.template\n",
      "or from the matplotlib source distribution\n",
      "\n",
      "Bad key animation.avconv_path in file C:\\Users\\PeterDell\\anaconda3\\lib\\site-packages\\matplotlib\\mpl-data\\stylelib\\_classic_test.mplstyle, line 477 ('animation.avconv_path: avconv     # Path to avconv binary. Without full path')\n",
      "You probably need to get an updated matplotlibrc file from\n",
      "https://github.com/matplotlib/matplotlib/blob/v3.5.3/matplotlibrc.template\n",
      "or from the matplotlib source distribution\n",
      "\n",
      "Bad key animation.avconv_args in file C:\\Users\\PeterDell\\anaconda3\\lib\\site-packages\\matplotlib\\mpl-data\\stylelib\\_classic_test.mplstyle, line 479 ('animation.avconv_args:            # Additional arguments to pass to avconv')\n",
      "You probably need to get an updated matplotlibrc file from\n",
      "https://github.com/matplotlib/matplotlib/blob/v3.5.3/matplotlibrc.template\n",
      "or from the matplotlib source distribution\n"
     ]
    }
   ],
   "source": [
    "import numpy as np\n",
    "import matplotlib.pyplot as plt\n",
    "#from matplotlib import pyplot\n",
    "import nltk\n",
    "import seaborn as sns\n",
    "import csv\n",
    "import os\n",
    "import scipy\n",
    "from scipy import stats\n"
   ]
  },
  {
   "cell_type": "code",
   "execution_count": 2,
   "metadata": {},
   "outputs": [],
   "source": [
    "def plot_figure(data,subject,label):\n",
    "    fig= plt.figure(figsize=(18,6))\n",
    "    plt.suptitle('Subject: '+ subject+ '  Path: ' +label)\n",
    "    # Cut your window in 1 row and 2 columns, and start a plot in the first part\n",
    "    plt.subplot(131)\n",
    "    plt.hist(data[0], 8, alpha=0.5, label='Expected')\n",
    "    plt.hist(data[1], 8, alpha=0.5, label='Related')\n",
    "    plt.hist(data[2], 8, alpha=0.5, label='Unrelated')\n",
    "\n",
    "    # Add title and axis names\n",
    "    plt.title('Sentence Context')\n",
    "    plt.xlabel('Semantic Relatedness')\n",
    "    plt.ylabel('Instances')\n",
    "    plt.legend(loc='best')\n",
    "    #plt.xlim(0.46, 0.55)\n",
    "    #plt.ylim(0, 17)\n",
    "\n",
    "    # And now add something in the second part:\n",
    "    plt.subplot(132)\n",
    "    plt.hist(data[3], 8, alpha=0.5, label='Expected')\n",
    "    plt.hist(data[4], 8, alpha=0.5, label='Related')\n",
    "    plt.hist(data[5], 8, alpha=0.5, label='Unrelated')\n",
    "\n",
    "    # Add title and axis names\n",
    "    plt.title('Discourse Context')\n",
    "    plt.xlabel('Semantic Relatedness')\n",
    "    plt.ylabel('Instances')\n",
    "    plt.legend(loc='best')\n",
    "\n",
    "    #plt.xlim(0.46, 0.55)\n",
    "    #plt.ylim(0, 17)\n",
    "\n",
    "    # now \n",
    "\n",
    "    ax = fig.add_subplot(133)\n",
    "\n",
    "\n",
    "    # Create the boxplot\n",
    "    bp = ax.boxplot(data.T)\n",
    "\n",
    "    ax.set_xticklabels(['S-E', 'S-R', 'S-U', 'D-E', 'D-R', 'D-U'])\n",
    "    # Add title and axis names\n",
    "    plt.title('Sentence            Discourse')\n",
    "    plt.xlabel('Target words in Sentence vs Discourse')\n",
    "    plt.ylabel('Semantic Relatedness')\n",
    "    #fig.tight_layout()\n",
    "\n",
    "    #plt.savefig('connectome_inference/figures/subject_%s_%s.png' % (subject,label))\n"
   ]
  },
  {
   "cell_type": "code",
   "execution_count": 3,
   "metadata": {},
   "outputs": [],
   "source": [
    "sublist = [ f.name for f in os.scandir('C:/data/for_Peter') if f.is_dir() ]"
   ]
  },
  {
   "cell_type": "code",
   "execution_count": 4,
   "metadata": {},
   "outputs": [
    {
     "name": "stdout",
     "output_type": "stream",
     "text": [
      "['100206', '100307', '100408', '100610', '101006', '101107', '101309', '101410', '101915', '102008', '102109', '102311', '102513', '102614', '102715', '102816', '103010', '103111', '103212', '103414']\n"
     ]
    }
   ],
   "source": [
    "print(sublist[:20])"
   ]
  },
  {
   "cell_type": "code",
   "execution_count": 5,
   "metadata": {},
   "outputs": [],
   "source": [
    "sub_count=11\n",
    "summary_none=np.zeros([6,sub_count])\n",
    "summary_mlf=np.zeros([6,sub_count])\n",
    "summary_ifo=np.zeros([6,sub_count])\n",
    "summary_af=np.zeros([6,sub_count])\n",
    "\n",
    "summary_none_c=np.zeros([6,sub_count])\n",
    "summary_mlf_c=np.zeros([6,sub_count])\n",
    "summary_ifo_c=np.zeros([6,sub_count])\n",
    "summary_af_c=np.zeros([6,sub_count])"
   ]
  },
  {
   "cell_type": "code",
   "execution_count": 6,
   "metadata": {},
   "outputs": [
    {
     "data": {
      "text/plain": [
       "array([[ True,  True,  True,  True,  True,  True,  True,  True,  True,\n",
       "         True,  True],\n",
       "       [ True,  True,  True,  True,  True,  True,  True,  True,  True,\n",
       "         True,  True],\n",
       "       [ True,  True,  True,  True,  True,  True,  True,  True,  True,\n",
       "         True,  True],\n",
       "       [ True,  True,  True,  True,  True,  True,  True,  True,  True,\n",
       "         True,  True],\n",
       "       [ True,  True,  True,  True,  True,  True,  True,  True,  True,\n",
       "         True,  True],\n",
       "       [ True,  True,  True,  True,  True,  True,  True,  True,  True,\n",
       "         True,  True]])"
      ]
     },
     "execution_count": 6,
     "metadata": {},
     "output_type": "execute_result"
    }
   ],
   "source": [
    "summary_none == summary_none_c"
   ]
  },
  {
   "cell_type": "code",
   "execution_count": 7,
   "metadata": {},
   "outputs": [],
   "source": [
    "# this is the main loop across subjects\n",
    "scount=0\n",
    "for subject in sublist[:sub_count]:\n",
    "    bundle_name=\"None_control_True\"\n",
    "    data = np.load('connectome_inference_control/subject_%s_path_%s.npy' % (subject,bundle_name))\n",
    "    for i in range(len(data)):\n",
    "        summary_none_c[i,scount] = np.mean([data[i]])\n",
    "  \n",
    "    bundle_name=\"MLF_left_control_True\"\n",
    "    data = np.load('connectome_inference_control/subject_%s_path_%s.npy' % (subject,bundle_name))\n",
    "    for i in range(len(data)):\n",
    "        summary_mlf_c[i,scount] = np.mean([data[i]])\n",
    "\n",
    "    bundle_name=\"IFO_left_control_True\"\n",
    "    data = np.load('connectome_inference_control/subject_%s_path_%s.npy' % (subject,bundle_name))\n",
    "    for i in range(len(data)):\n",
    "        summary_ifo_c[i,scount] = np.mean([data[i]])\n",
    "        \n",
    "    bundle_name=\"AF_left_control_True\"\n",
    "    data = np.load('connectome_inference_control/subject_%s_path_%s.npy' % (subject,bundle_name))\n",
    "    for i in range(len(data)):\n",
    "        summary_af_c[i,scount] = np.mean([data[i]])\n",
    "    scount=scount+1\n",
    "  "
   ]
  },
  {
   "cell_type": "code",
   "execution_count": 8,
   "metadata": {},
   "outputs": [],
   "source": [
    "# this is the main loop across subjects\n",
    "scount=0\n",
    "for subject in sublist[:sub_count]:\n",
    "    bundle_name=\"None_new_esb\"\n",
    "    data = np.load('connectome_inference_check/subject_%s_path_%s.npy' % (subject,bundle_name))\n",
    "    for i in range(len(data)):\n",
    "        summary_none[i,scount] = np.mean([data[i]])\n",
    "  \n",
    "    bundle_name=\"MLF_left_new_esb\"\n",
    "    data = np.load('connectome_inference_check/subject_%s_path_%s.npy' % (subject,bundle_name))\n",
    "    for i in range(len(data)):\n",
    "        summary_mlf[i,scount] = np.mean([data[i]])\n",
    "\n",
    "    bundle_name=\"IFO_left_new_esb\"\n",
    "    data = np.load('connectome_inference_check/subject_%s_path_%s.npy' % (subject,bundle_name))\n",
    "    for i in range(len(data)):\n",
    "        summary_ifo[i,scount] = np.mean([data[i]])\n",
    "        \n",
    "    bundle_name=\"AF_left_new_esb\"\n",
    "    data = np.load('connectome_inference_check/subject_%s_path_%s.npy' % (subject,bundle_name))\n",
    "    for i in range(len(data)):\n",
    "        summary_af[i,scount] = np.mean([data[i]])\n",
    "    scount=scount+1\n",
    "  "
   ]
  },
  {
   "cell_type": "code",
   "execution_count": 9,
   "metadata": {},
   "outputs": [
    {
     "name": "stdout",
     "output_type": "stream",
     "text": [
      "[[0.84163503 0.83271542 0.82853465 0.83529873 0.82718905 0.81285739]\n",
      " [0.8421852  0.83328768 0.82911834 0.83586048 0.82776981 0.81349743]\n",
      " [0.84203748 0.83312999 0.82895764 0.83570244 0.82760377 0.81331975]\n",
      " [0.84213091 0.8332458  0.82907531 0.83579782 0.82771702 0.81343691]\n",
      " [0.8424049  0.83354046 0.82937587 0.8360802  0.82801284 0.81375915]\n",
      " [0.84154052 0.83261028 0.82843011 0.83519352 0.82707929 0.8127486 ]\n",
      " [0.84150195 0.83256584 0.82838543 0.83515604 0.82703269 0.81270209]\n",
      " [0.84197515 0.83308854 0.82891308 0.83563583 0.82755366 0.81326123]\n",
      " [0.84187045 0.83297287 0.82879967 0.83552955 0.82743947 0.81314001]\n",
      " [0.84173531 0.83283473 0.82865799 0.83538837 0.82729869 0.81298784]\n",
      " [0.8415464  0.83260588 0.82842498 0.83519613 0.82706856 0.81273121]]\n"
     ]
    }
   ],
   "source": [
    "print(summary_af.T)"
   ]
  },
  {
   "cell_type": "code",
   "execution_count": 10,
   "metadata": {},
   "outputs": [
    {
     "data": {
      "image/png": "[encoded data removed]",
      "text/plain": [
       "<Figure size 1080x288 with 4 Axes>"
      ]
     },
     "metadata": {
      "needs_background": "light"
     },
     "output_type": "display_data"
    }
   ],
   "source": [
    "fig= plt.figure(figsize=(15,4))\n",
    "data1=(summary_ifo - summary_none)*10000\n",
    "data2=(summary_mlf - summary_none)*10000\n",
    "data3=-(data2-data1)\n",
    "plt.subplot(141)\n",
    "plt.title('Baseline')\n",
    "plt.boxplot(summary_none.T)\n",
    "plt.ylim(0.805,0.845)\n",
    "plt.subplot(142)\n",
    "plt.title('IFO')\n",
    "plt.boxplot(summary_ifo.T)\n",
    "plt.ylim(0.805,0.845)\n",
    "plt.subplot(143)\n",
    "plt.title('MLF')\n",
    "plt.boxplot(summary_mlf.T)\n",
    "plt.ylim(0.805,0.845)\n",
    "plt.subplot(144)\n",
    "plt.title('AF')\n",
    "plt.boxplot(summary_af.T)\n",
    "plt.ylim(0.805,0.845)\n",
    "#plt.boxplot(data2.T)\n",
    "plt.show()"
   ]
  },
  {
   "cell_type": "code",
   "execution_count": 11,
   "metadata": {
    "scrolled": false
   },
   "outputs": [
    {
     "data": {
      "image/png": "[encoded data removed]",
      "text/plain": [
       "<Figure size 1080x648 with 6 Axes>"
      ]
     },
     "metadata": {
      "needs_background": "light"
     },
     "output_type": "display_data"
    }
   ],
   "source": [
    "fig= plt.figure(figsize=(15,9))\n",
    "data1=(summary_ifo - summary_none)*10000\n",
    "data2=(summary_mlf - summary_none)*10000\n",
    "data3=(summary_af - summary_none)*10000\n",
    "\n",
    "data4=(summary_ifo_c - summary_none_c)*10000\n",
    "data5=(summary_mlf_c - summary_none_c)*10000\n",
    "data6=(summary_af_c - summary_none_c)*10000\n",
    "\n",
    "\n",
    "min=-6\n",
    "max=1\n",
    "plt.subplot(231)\n",
    "plt.title('IFO vs none')\n",
    "plt.boxplot(data1.T)\n",
    "plt.ylim(min,max)\n",
    "plt.subplot(232)\n",
    "plt.title('AF vs none')\n",
    "plt.ylim(min,max)\n",
    "plt.boxplot(data3.T)\n",
    "plt.subplot(233)\n",
    "plt.title('MLF vs none')\n",
    "plt.boxplot(data2.T)\n",
    "plt.ylim(min,max)\n",
    "\n",
    "\n",
    "plt.subplot(234)\n",
    "plt.title('IFO control vs none')\n",
    "plt.boxplot(data4.T)\n",
    "plt.ylim(min,max)\n",
    "plt.subplot(235)\n",
    "plt.title('AF control vs none')\n",
    "plt.ylim(min,max)\n",
    "plt.boxplot(data6.T)\n",
    "plt.subplot(236)\n",
    "plt.title('MLF control vs none')\n",
    "plt.boxplot(data5.T)\n",
    "plt.ylim(min,max)\n",
    "\n",
    "plt.show()"
   ]
  },
  {
   "cell_type": "code",
   "execution_count": 12,
   "metadata": {
    "scrolled": false
   },
   "outputs": [
    {
     "data": {
      "image/png": "[encoded data removed]",
      "text/plain": [
       "<Figure size 1080x360 with 3 Axes>"
      ]
     },
     "metadata": {
      "needs_background": "light"
     },
     "output_type": "display_data"
    }
   ],
   "source": [
    "fig= plt.figure(figsize=(15,5))\n",
    "data1=(summary_ifo - summary_ifo_c)*10000\n",
    "data2=(summary_af - summary_af_c)*10000\n",
    "data3=(summary_mlf - summary_mlf_c)*10000\n",
    "\n",
    "\n",
    "\n",
    "min=-2.5\n",
    "max=1\n",
    "plt.subplot(131)\n",
    "plt.title('IFO vs IFO_c')\n",
    "plt.boxplot(data1.T)\n",
    "plt.ylim(min,max)\n",
    "plt.subplot(132)\n",
    "plt.title('AF vs AF_c')\n",
    "plt.ylim(min,max)\n",
    "plt.boxplot(data2.T)\n",
    "plt.subplot(133)\n",
    "plt.title('MLF vs MLF_c')\n",
    "plt.boxplot(data3.T)\n",
    "plt.ylim(min,max)\n",
    "\n",
    "\n",
    "plt.show()"
   ]
  },
  {
   "cell_type": "code",
   "execution_count": 13,
   "metadata": {},
   "outputs": [],
   "source": [
    "data=data1"
   ]
  },
  {
   "cell_type": "code",
   "execution_count": 14,
   "metadata": {},
   "outputs": [
    {
     "name": "stdout",
     "output_type": "stream",
     "text": [
      "t-test: for BC vs EF:  Ttest_indResult(statistic=-0.002767212096205612, pvalue=0.997819502961693)\n",
      "t-test: for AB vs DE:  Ttest_indResult(statistic=0.022681176603161764, pvalue=0.9821293594447006)\n"
     ]
    }
   ],
   "source": [
    "print('t-test: for BC vs EF: ', stats.ttest_ind(data[1],data[2]))\n",
    "print('t-test: for AB vs DE: ', stats.ttest_ind(data[4],data[5]))"
   ]
  },
  {
   "cell_type": "code",
   "execution_count": 15,
   "metadata": {},
   "outputs": [
    {
     "name": "stdout",
     "output_type": "stream",
     "text": [
      "t-test: for BC vs EF:  Ttest_indResult(statistic=-0.3436875588095176, pvalue=0.7346680887569932)\n",
      "t-test: for AB vs DE:  Ttest_indResult(statistic=-0.5466767805256751, pvalue=0.5906485255957518)\n"
     ]
    }
   ],
   "source": [
    "print('t-test: for BC vs EF: ', stats.ttest_ind(data[1]-data[2], data[4]-data[5]))\n",
    "print('t-test: for AB vs DE: ', stats.ttest_ind(data[0]-data[1], data[3]-data[4]))"
   ]
  },
  {
   "cell_type": "code",
   "execution_count": 16,
   "metadata": {},
   "outputs": [
    {
     "name": "stdout",
     "output_type": "stream",
     "text": [
      "t-test: for BC vs EF:  Ttest_relResult(statistic=-1.7277879577917044, pvalue=0.11472349608416255)\n",
      "t-test: for AB vs DE:  Ttest_relResult(statistic=-2.9379036550588506, pvalue=0.01483865883662709)\n"
     ]
    }
   ],
   "source": [
    "print('t-test: for BC vs EF: ', stats.ttest_rel(data1[0]-data1[1], data2[0]-data2[1]))\n",
    "print('t-test: for AB vs DE: ', stats.ttest_rel(data1[4]-data1[5], data2[4]-data2[5]))"
   ]
  },
  {
   "cell_type": "code",
   "execution_count": 17,
   "metadata": {},
   "outputs": [
    {
     "name": "stdout",
     "output_type": "stream",
     "text": [
      "t-test: for BC vs EF:  Ttest_relResult(statistic=-6.249506569571591, pvalue=9.511339696142763e-05)\n",
      "t-test: for AB vs DE:  Ttest_relResult(statistic=-6.045682058015358, pvalue=0.00012431875528379237)\n"
     ]
    }
   ],
   "source": [
    "print('t-test: for BC vs EF: ', stats.ttest_rel(data2[0]-data2[1], data3[0]-data3[1]))\n",
    "print('t-test: for AB vs DE: ', stats.ttest_rel(data2[4]-data2[5], data3[4]-data3[5]))"
   ]
  },
  {
   "cell_type": "code",
   "execution_count": 18,
   "metadata": {},
   "outputs": [
    {
     "name": "stdout",
     "output_type": "stream",
     "text": [
      "t-test: for BC vs EF:  Ttest_indResult(statistic=-7.317811989285052, pvalue=4.490058218350766e-07)\n",
      "-1.514764785232048 -1.5503313584732468 -1.5496349803703877 -1.6779397846425603\n",
      "t-test: for AB vs DE:  Ttest_indResult(statistic=0.9440358703912664, pvalue=0.35641697189785393)\n",
      "0.17543380987623938 0.14181684686829435\n"
     ]
    }
   ],
   "source": [
    "data=data3\n",
    "print('t-test: for BC vs EF: ', stats.ttest_ind(data[1]-data[2], data[4]-data[5]))\n",
    "print(np.mean(data[1]),np.mean(data[2]), np.mean(data[4]), np.mean(data[5]))\n",
    "print('t-test: for AB vs DE: ', stats.ttest_ind(data[0]-data[1], data[3]-data[4]))\n",
    "print(np.mean([data[0]-data[1]]),np.mean([data[3]-data[4]]))\n"
   ]
  },
  {
   "cell_type": "code",
   "execution_count": 19,
   "metadata": {
    "scrolled": false
   },
   "outputs": [
    {
     "data": {
      "image/png": "[encoded data removed]",
      "text/plain": [
       "<Figure size 1080x648 with 6 Axes>"
      ]
     },
     "metadata": {
      "needs_background": "light"
     },
     "output_type": "display_data"
    }
   ],
   "source": [
    "fig= plt.figure(figsize=(15,9))\n",
    "data1=(summary_ifo - summary_none)*10000\n",
    "data2=(summary_mlf - summary_none)*10000\n",
    "data3=(summary_af - summary_none)*10000\n",
    "\n",
    "data4=(summary_mlf - summary_ifo)*10000\n",
    "data5=(summary_mlf - summary_af)*10000\n",
    "data6=(summary_af - summary_ifo)*10000\n",
    "\n",
    "min=-6\n",
    "max=0\n",
    "plt.subplot(231)\n",
    "plt.title('IFO vs none')\n",
    "plt.boxplot(data1.T)\n",
    "plt.ylim(min,max)\n",
    "plt.subplot(232)\n",
    "plt.title('MLF vs none')\n",
    "plt.boxplot(data2.T)\n",
    "plt.ylim(min,max)\n",
    "plt.subplot(233)\n",
    "plt.title('AF vs none')\n",
    "plt.ylim(min,max)\n",
    "plt.boxplot(data3.T)\n",
    "\n",
    "plt.subplot(234)\n",
    "plt.title('MLF vs IFO')\n",
    "plt.boxplot(data4.T)\n",
    "plt.ylim(min,max)\n",
    "plt.subplot(235)\n",
    "plt.title('MLF vs AF')\n",
    "plt.boxplot(data5.T)\n",
    "plt.ylim(min,max)\n",
    "plt.subplot(236)\n",
    "plt.title('AF vs IFO')\n",
    "plt.boxplot(data6.T)\n",
    "plt.ylim(min,max)\n",
    "\n",
    "#plt.boxplot(data2.T)\n",
    "plt.show()"
   ]
  },
  {
   "cell_type": "code",
   "execution_count": 20,
   "metadata": {},
   "outputs": [
    {
     "data": {
      "image/png": "[encoded data removed]",
      "text/plain": [
       "<Figure size 1080x288 with 3 Axes>"
      ]
     },
     "metadata": {
      "needs_background": "light"
     },
     "output_type": "display_data"
    }
   ],
   "source": [
    "data=data6\n",
    "fig= plt.figure(figsize=(15,4))\n",
    "plt.subplot(131)\n",
    "plt.boxplot([data[1]-data[2], data[4]-data[5]])\n",
    "plt.ylim(0.04, 0.36)\n",
    "plt.subplot(132)\n",
    "plt.boxplot([data[0]-data[1], data[3]-data[4]])\n",
    "plt.ylim(0.04, 0.36)\n",
    "plt.subplot(133)\n",
    "plt.boxplot(data.T)\n",
    "plt.show()"
   ]
  },
  {
   "cell_type": "code",
   "execution_count": 21,
   "metadata": {},
   "outputs": [
    {
     "data": {
      "image/png": "[encoded data removed]",
      "text/plain": [
       "<Figure size 432x288 with 2 Axes>"
      ]
     },
     "metadata": {
      "needs_background": "light"
     },
     "output_type": "display_data"
    }
   ],
   "source": [
    "plt.subplot(121)\n",
    "plt.hist(data[1]-data[2], 8, alpha=0.5, label='Expected')\n",
    "plt.hist(data[4]-data[5], 8, alpha=0.5, label='Related')\n",
    "plt.xlim(0, 0.4)\n",
    "plt.subplot(122)\n",
    "plt.hist(data[0]-data[1], 8, alpha=0.5, label='Expected')\n",
    "plt.hist(data[3]-data[4], 8, alpha=0.5, label='Related')\n",
    "plt.xlim(0, 0.4)\n",
    "\n",
    "plt.show()"
   ]
  },
  {
   "cell_type": "code",
   "execution_count": 22,
   "metadata": {},
   "outputs": [
    {
     "data": {
      "image/png": "[encoded data removed]",
      "text/plain": [
       "<Figure size 432x288 with 2 Axes>"
      ]
     },
     "metadata": {
      "needs_background": "light"
     },
     "output_type": "display_data"
    }
   ],
   "source": [
    "connectome = np.load(\"Exp3B_connectome.npy\")\n",
    "sns.heatmap(connectome,cmap='seismic')\n",
    "plt.show()"
   ]
  },
  {
   "cell_type": "code",
   "execution_count": 23,
   "metadata": {},
   "outputs": [],
   "source": [
    "data=[[0.4809491 , 0.56275326, 0.51666236, 0.52702385, 0.43499371,\n",
    "       0.34171075, 0.63414431, 0.48155484, 0.42182752, 0.56027937,\n",
    "       0.68268985, 0.43029863, 0.52706367, 0.5547989 , 0.65555596,\n",
    "       0.50433165, 0.46771517, 0.53487313, 0.44168794, 0.35617054,\n",
    "       0.65962791, 0.35605738, 0.61685508, 0.49041963, 0.42500064,\n",
    "       0.43583053, 0.56063443, 0.46093348, 0.59639007, 0.36052462,\n",
    "       0.38207176, 0.4467535 , 0.52768517, 0.48511219, 0.4866024 ,\n",
    "       0.6559478 , 0.50814891, 0.42955735, 0.36394322, 0.46522093,\n",
    "       0.48285979, 0.68086046, 0.46994284, 0.6417582 , 0.47556213,\n",
    "       0.6228565 , 0.5976789 , 0.50153321, 0.53689516, 0.56438893,\n",
    "       0.34399694, 0.32896101, 0.30747589, 0.37191987, 0.49656135,\n",
    "       0.4758608 , 0.70358533, 0.47139907, 0.40974364, 0.50968665,\n",
    "       0.55057317, 0.52001739, 0.4898169 , 0.67565501, 0.56439811,\n",
    "       0.67085522, 0.43082869, 0.52919543, 0.54470444, 0.61396694,\n",
    "       0.62307   , 0.34388927], [0.51204991, 0.48733613, 0.49471185, 0.35201165, 0.4989579 ,\n",
    "       0.37787211, 0.43230858, 0.35844687, 0.38005257, 0.55745953,\n",
    "       0.48913166, 0.38625988, 0.53390014, 0.35763618, 0.53928477,\n",
    "       0.41832799, 0.59449333, 0.48927328, 0.45481974, 0.31662709,\n",
    "       0.52150947, 0.45664793, 0.33995762, 0.40212396, 0.38905624,\n",
    "       0.45133916, 0.41828841, 0.50497979, 0.4728564 , 0.35177967,\n",
    "       0.41390267, 0.38942161, 0.52427316, 0.33398473, 0.40311202,\n",
    "       0.39203644, 0.54719251, 0.43591061, 0.41431153, 0.5395599 ,\n",
    "       0.39969042, 0.45351198, 0.56588632, 0.44963267, 0.45852193,\n",
    "       0.42653748, 0.38027763, 0.451267  , 0.37279284, 0.51096541,\n",
    "       0.33364567, 0.32323658, 0.50589907, 0.35373101, 0.5119037 ,\n",
    "       0.42963535, 0.45223096, 0.38782588, 0.56356299, 0.34890378,\n",
    "       0.54298097, 0.34799042, 0.39507067, 0.46984538, 0.45611525,\n",
    "       0.52739918, 0.42404878, 0.48787653, 0.4089185 , 0.52137351,\n",
    "       0.43241853, 0.35925648], [0.40523922, 0.44752586, 0.34347713, 0.40633035, 0.39754248,\n",
    "       0.34312588, 0.33533227, 0.47159022, 0.42524907, 0.53955698,\n",
    "       0.51591378, 0.35178545, 0.44869158, 0.36675864, 0.35631055,\n",
    "       0.38616341, 0.499264  , 0.45005125, 0.41110897, 0.37203282,\n",
    "       0.42203286, 0.5698933 , 0.36767796, 0.37665796, 0.35333335,\n",
    "       0.46735242, 0.39585024, 0.3962642 , 0.4125087 , 0.4571147 ,\n",
    "       0.46008387, 0.44580936, 0.40698615, 0.44174314, 0.54091537,\n",
    "       0.38214236, 0.42522085, 0.39727989, 0.39109081, 0.42757928,\n",
    "       0.3686623 , 0.47837523, 0.39759853, 0.45949197, 0.52027732,\n",
    "       0.36225277, 0.36770567, 0.45535141, 0.4059445 , 0.44877198,\n",
    "       0.41697928, 0.35024589, 0.44839418, 0.25774443, 0.44921252,\n",
    "       0.36189005, 0.41974553, 0.36486021, 0.34757322, 0.31594884,\n",
    "       0.38363838, 0.41270235, 0.32125157, 0.36995384, 0.42455524,\n",
    "       0.31999192, 0.40497378, 0.47460055, 0.41901088, 0.47039735,\n",
    "       0.44404647, 0.41777599], [0.55859447, 0.50560743, 0.44852412, 0.53713316, 0.53783   ,\n",
    "       0.48858491, 0.6033181 , 0.56115794, 0.41888696, 0.53187889,\n",
    "       0.70141029, 0.48819214, 0.55779374, 0.51497316, 0.61725873,\n",
    "       0.5039264 , 0.50607979, 0.54170263, 0.44821444, 0.59013218,\n",
    "       0.69583988, 0.42382386, 0.63509953, 0.48495001, 0.488819  ,\n",
    "       0.51748896, 0.58731937, 0.52118391, 0.57699418, 0.45580289,\n",
    "       0.46936175, 0.51010293, 0.66164774, 0.48895669, 0.5678941 ,\n",
    "       0.63233227, 0.49693492, 0.49662489, 0.43048501, 0.53370297,\n",
    "       0.520078  , 0.58275717, 0.52071726, 0.57943559, 0.70687652,\n",
    "       0.60556275, 0.58781976, 0.58454287, 0.59389788, 0.49175939,\n",
    "       0.43825182, 0.42795318, 0.39171213, 0.56066394, 0.55440289,\n",
    "       0.51569045, 0.64970821, 0.56108046, 0.53954566, 0.53349364,\n",
    "       0.51481336, 0.58524859, 0.55649036, 0.72527087, 0.61236238,\n",
    "       0.56031984, 0.48768795, 0.56645817, 0.46027756, 0.58064836,\n",
    "       0.55161387, 0.45255613], [0.55406868, 0.57488239, 0.54690325, 0.48345023, 0.569022  ,\n",
    "       0.43489271, 0.52860165, 0.51879537, 0.42511073, 0.58940375,\n",
    "       0.53642213, 0.42059103, 0.57159263, 0.48380563, 0.57267582,\n",
    "       0.43201828, 0.54435521, 0.6102671 , 0.49756286, 0.42969447,\n",
    "       0.54602504, 0.53364348, 0.36017588, 0.49338287, 0.57006633,\n",
    "       0.49416572, 0.42595857, 0.60639393, 0.58634555, 0.45029232,\n",
    "       0.53857648, 0.56289721, 0.51231498, 0.43544954, 0.5361132 ,\n",
    "       0.52751172, 0.60924274, 0.52959085, 0.56397486, 0.58808351,\n",
    "       0.59922111, 0.48501658, 0.65722871, 0.47682533, 0.52176064,\n",
    "       0.44252014, 0.51252633, 0.52596265, 0.5070765 , 0.56694424,\n",
    "       0.49082536, 0.43684173, 0.59280974, 0.53822303, 0.55473834,\n",
    "       0.54374772, 0.47000733, 0.55343926, 0.5453465 , 0.53439188,\n",
    "       0.6600188 , 0.50148618, 0.47991613, 0.50639111, 0.60062283,\n",
    "       0.47441179, 0.50027388, 0.54430848, 0.53400677, 0.48980922,\n",
    "       0.5970794 , 0.55715841], [0.4210102 , 0.46993783, 0.46874106, 0.43755522, 0.49430808,\n",
    "       0.45269835, 0.43660271, 0.57547587, 0.49655193, 0.62962484,\n",
    "       0.54766756, 0.38405335, 0.44911498, 0.42681274, 0.49378845,\n",
    "       0.38293383, 0.47987682, 0.4927676 , 0.48209816, 0.50440729,\n",
    "       0.47457835, 0.57961482, 0.35261264, 0.43341839, 0.38367069,\n",
    "       0.54147559, 0.45526189, 0.43601844, 0.47936678, 0.51174754,\n",
    "       0.50694013, 0.44678107, 0.39328489, 0.51325613, 0.50167501,\n",
    "       0.44915578, 0.48458034, 0.43099877, 0.52866548, 0.44236597,\n",
    "       0.50254321, 0.47889686, 0.45833051, 0.4823516 , 0.49593326,\n",
    "       0.42197102, 0.35581917, 0.53097856, 0.46856019, 0.53641123,\n",
    "       0.47491288, 0.40644717, 0.46268952, 0.45908567, 0.47351196,\n",
    "       0.37777895, 0.50243437, 0.4483318 , 0.40512294, 0.33287725,\n",
    "       0.43693972, 0.48145029, 0.39410722, 0.5344246 , 0.44313836,\n",
    "       0.29313606, 0.45898864, 0.49938774, 0.39198187, 0.46161777,\n",
    "       0.53909236, 0.41670775]]"
   ]
  },
  {
   "cell_type": "markdown",
   "metadata": {},
   "source": [
    "#graphic \n"
   ]
  },
  {
   "cell_type": "code",
   "execution_count": 24,
   "metadata": {},
   "outputs": [
    {
     "data": {
      "image/png": "[encoded data removed]",
      "text/plain": [
       "<Figure size 1296x432 with 3 Axes>"
      ]
     },
     "metadata": {
      "needs_background": "light"
     },
     "output_type": "display_data"
    }
   ],
   "source": [
    "# graphic for average vector test \n",
    "\n",
    "# this is for the single reservoir\n",
    "fig= plt.figure(figsize=(18,6))\n",
    "plt.title('Average Vector')\n",
    "\n",
    "# Cut your window in 1 row and 2 columns, and start a plot in the first part\n",
    "plt.subplot(131)\n",
    "plt.hist(data[0], 8, alpha=0.5, label='Expected')\n",
    "plt.hist(data[1], 8, alpha=0.5, label='Related')\n",
    "plt.hist(data[2], 8, alpha=0.5, label='Unrelated')\n",
    "\n",
    "# Add title and axis names\n",
    "plt.title('Sentence Context')\n",
    "plt.xlabel('Semantic Relatedness')\n",
    "plt.ylabel('Instances')\n",
    "plt.legend(loc='best')\n",
    "\n",
    "plt.xlim(0.2, 0.75)\n",
    "plt.ylim(0, 25)\n",
    " \n",
    "# And now add something in the second part:\n",
    "plt.subplot(132)\n",
    "plt.hist(data[3], 8, alpha=0.5, label='Expected')\n",
    "plt.hist(data[4], 8, alpha=0.5, label='Related')\n",
    "plt.hist(data[5], 8, alpha=0.5, label='Unrelated')\n",
    "\n",
    "# Add title and axis names\n",
    "plt.title('Discourse Context')\n",
    "plt.xlabel('Semantic Relatedness')\n",
    "plt.ylabel('Instances')\n",
    "plt.legend(loc='best')\n",
    "\n",
    "plt.xlim(0.2, 0.75)\n",
    "plt.ylim(0, 25)\n",
    " \n",
    " \n",
    "# now \n",
    "\n",
    "ax = fig.add_subplot(133)\n",
    "\n",
    "\n",
    "# Create the boxplot\n",
    "bp = ax.boxplot(data)\n",
    "\n",
    "ax.set_xticklabels(['S-E', 'S-R', 'S-U', 'D-E', 'D-R', 'D-U'])\n",
    "# Add title and axis names\n",
    "plt.title('Sentence            Discourse')\n",
    "plt.xlabel('Target words in Sentence vs Discourse')\n",
    "plt.ylabel('Semantic Relatedness')\n",
    "#fig.tight_layout()\n",
    "\n",
    "plt.savefig('Metusalem-average-RADICAL.png')"
   ]
  },
  {
   "cell_type": "code",
   "execution_count": 25,
   "metadata": {},
   "outputs": [],
   "source": [
    "#heatmap!!\n",
    "\n",
    "import numpy as np\n",
    "import matplotlib\n",
    "import matplotlib.pyplot as plt\n"
   ]
  },
  {
   "cell_type": "code",
   "execution_count": 26,
   "metadata": {
    "scrolled": true
   },
   "outputs": [
    {
     "ename": "AttributeError",
     "evalue": "'list' object has no attribute 'T'",
     "output_type": "error",
     "traceback": [
      "\u001b[1;31m---------------------------------------------------------------------------\u001b[0m",
      "\u001b[1;31mAttributeError\u001b[0m                            Traceback (most recent call last)",
      "\u001b[1;32m<ipython-input-26-590b926ffcf0>\u001b[0m in \u001b[0;36m<module>\u001b[1;34m\u001b[0m\n\u001b[0;32m     39\u001b[0m \u001b[1;33m\u001b[0m\u001b[0m\n\u001b[0;32m     40\u001b[0m \u001b[1;31m# Create the boxplot\u001b[0m\u001b[1;33m\u001b[0m\u001b[1;33m\u001b[0m\u001b[1;33m\u001b[0m\u001b[0m\n\u001b[1;32m---> 41\u001b[1;33m \u001b[0mbp\u001b[0m \u001b[1;33m=\u001b[0m \u001b[0max\u001b[0m\u001b[1;33m.\u001b[0m\u001b[0mboxplot\u001b[0m\u001b[1;33m(\u001b[0m\u001b[0mdata\u001b[0m\u001b[1;33m.\u001b[0m\u001b[0mT\u001b[0m\u001b[1;33m,\u001b[0m \u001b[0mpatch_artist\u001b[0m\u001b[1;33m=\u001b[0m\u001b[1;32mTrue\u001b[0m\u001b[1;33m)\u001b[0m\u001b[1;33m\u001b[0m\u001b[1;33m\u001b[0m\u001b[0m\n\u001b[0m\u001b[0;32m     42\u001b[0m \u001b[1;33m\u001b[0m\u001b[0m\n\u001b[0;32m     43\u001b[0m \u001b[0mcolors\u001b[0m \u001b[1;33m=\u001b[0m \u001b[1;33m[\u001b[0m\u001b[1;34m'lightskyblue'\u001b[0m\u001b[1;33m,\u001b[0m \u001b[1;34m'moccasin'\u001b[0m\u001b[1;33m,\u001b[0m \u001b[1;34m'lightgreen'\u001b[0m\u001b[1;33m,\u001b[0m \u001b[1;34m'lightblue'\u001b[0m\u001b[1;33m,\u001b[0m \u001b[1;34m'moccasin'\u001b[0m\u001b[1;33m,\u001b[0m \u001b[1;34m'lightgreen'\u001b[0m\u001b[1;33m]\u001b[0m\u001b[1;33m\u001b[0m\u001b[1;33m\u001b[0m\u001b[0m\n",
      "\u001b[1;31mAttributeError\u001b[0m: 'list' object has no attribute 'T'"
     ]
    },
    {
     "data": {
      "image/png": "[encoded data removed]",
      "text/plain": [
       "<Figure size 1296x432 with 3 Axes>"
      ]
     },
     "metadata": {
      "needs_background": "light"
     },
     "output_type": "display_data"
    }
   ],
   "source": [
    "# this is for the single reservoir\n",
    "fig= plt.figure(figsize=(18,6))\n",
    "plt.suptitle('20 Subjects: MLF - IFO')\n",
    "\n",
    "# Cut your window in 1 row and 2 columns, and start a plot in the first part\n",
    "plt.subplot(131)\n",
    "plt.hist(data[0], 8, alpha=0.5, label='Expected')\n",
    "plt.hist(data[1], 8, alpha=0.5, label='Related')\n",
    "plt.hist(data[2], 8, alpha=0.5, label='Unrelated')\n",
    "\n",
    "# Add title and axis names\n",
    "plt.title('Sentence Context')\n",
    "plt.xlabel('Semantic Relatedness')\n",
    "plt.ylabel('Instances')\n",
    "plt.legend(loc='best')\n",
    "#plt.xlim(0.35, 0.75)\n",
    "#plt.ylim(0, 30)\n",
    " \n",
    "# And now add something in the second part:\n",
    "plt.subplot(132)\n",
    "plt.hist(data[3], 8, alpha=0.5, label='Expected')\n",
    "plt.hist(data[4], 8, alpha=0.5, label='Related')\n",
    "plt.hist(data[5], 8, alpha=0.5, label='Unrelated')\n",
    "\n",
    "# Add title and axis names\n",
    "plt.title('Discourse Context')\n",
    "plt.xlabel('Semantic Relatedness')\n",
    "plt.ylabel('Instances')\n",
    "plt.legend(loc='best')\n",
    "\n",
    "#plt.xlim(0.35, 0.75)\n",
    "#plt.ylim(0, 30)\n",
    " \n",
    " \n",
    "# now \n",
    "\n",
    "ax = fig.add_subplot(133)\n",
    "\n",
    "\n",
    "# Create the boxplot\n",
    "bp = ax.boxplot(data.T, patch_artist=True)\n",
    "\n",
    "colors = ['lightskyblue', 'moccasin', 'lightgreen', 'lightblue', 'moccasin', 'lightgreen']\n",
    " \n",
    "for patch, color in zip(bp['boxes'], colors):\n",
    "    patch.set_facecolor(color)\n",
    "\n",
    "ax.set_xticklabels(['S-E', 'S-R', 'S-U', 'D-E', 'D-R', 'D-U'])\n",
    "# Add title and axis names\n",
    "plt.title('Sentence            Discourse')\n",
    "plt.xlabel('Target words in Sentence vs Discourse')\n",
    "plt.ylabel('Semantic Relatedness')\n",
    "#fig.tight_layout()\n",
    "\n",
    "#plt.savefig('connectome_inference/figures/20_subjects_MLF_IFO_diff.png',dpi=300)\n"
   ]
  },
  {
   "cell_type": "code",
   "execution_count": null,
   "metadata": {},
   "outputs": [],
   "source": [
    "# Define numbers of generated data points and bins per axis.\n",
    "\n",
    "N_bins = 10\n",
    "\n",
    "\n",
    "# Construct 2D histogram from data using the 'plasma' colormap\n",
    "plt.hist2d(data[1], data[4], bins=N_bins, density=False, cmap='plasma')\n",
    "\n",
    "# Plot a colorbar with label.\n",
    "cb = plt.colorbar()\n",
    "cb.set_label('Number of entries')\n",
    "\n",
    "# Add title and labels to plot.\n",
    "plt.title('Heatmap of 2D normally distributed data points')\n",
    "plt.xlabel('x axis')\n",
    "plt.ylabel('y axis')\n",
    "\n",
    "# Show the plot.\n",
    "plt.show()"
   ]
  },
  {
   "cell_type": "code",
   "execution_count": null,
   "metadata": {},
   "outputs": [],
   "source": [
    "train='C:/Users/PeterDell/Google Drive/GoogleWIP/Projects/TemporalTopography/python_transfer/in_small.npy'\n",
    "test='C:/Users/PeterDell/Google Drive/GoogleWIP/Projects/TemporalTopography/python_transfer/out_small.npy'\n",
    "\n",
    "inputDataTraining = np.load(train)\n",
    "outputDataTraining = np.load(test)"
   ]
  },
  {
   "cell_type": "code",
   "execution_count": null,
   "metadata": {},
   "outputs": [],
   "source": [
    "inputDataTraining.shape"
   ]
  },
  {
   "cell_type": "code",
   "execution_count": null,
   "metadata": {},
   "outputs": [],
   "source": [
    "guy = inputDataTraining[:100,:]"
   ]
  },
  {
   "cell_type": "code",
   "execution_count": null,
   "metadata": {},
   "outputs": [],
   "source": [
    "guy.shape"
   ]
  },
  {
   "cell_type": "code",
   "execution_count": null,
   "metadata": {},
   "outputs": [],
   "source": [
    "import os\n",
    "subfolders = [ f.name for f in os.scandir('C:/data/for_Peter') if f.is_dir() ]"
   ]
  },
  {
   "cell_type": "code",
   "execution_count": null,
   "metadata": {},
   "outputs": [],
   "source": [
    "subfolders"
   ]
  },
  {
   "cell_type": "code",
   "execution_count": null,
   "metadata": {},
   "outputs": [],
   "source": []
  },
  {
   "cell_type": "code",
   "execution_count": null,
   "metadata": {
    "scrolled": true
   },
   "outputs": [],
   "source": [
    "# bundles of interest\n",
    "BOIs = [\"None\",\"MLF_left\",\"AF_left\"] \n",
    "\n",
    "# this is the main loop across subjects\n",
    "for subject in sublist[:20]:\n",
    "    for bundle_name in BOIs:\n",
    "        print(\"subject: \",subject, \"BOI: \", bundle_name)\n",
    "        data = np.load('connectome_inference/subject_%s_path_%s.npy' % (subject,bundle_name))\n",
    "        plot_figure(data,subject,bundle_name)\n",
    "        print('Subject: ', subject, \"bundle: \", bundle_name)\n",
    "        print('t-test: for BC vs EF: ', stats.ttest_ind(data[1]-data[2], data[4]-data[5]))\n",
    "        print('t-test: for AB vs DE: ', stats.ttest_ind(data[0]-data[1], data[3]-data[4]))\n",
    "\n",
    "    data_None= np.load('connectome_inference/subject_%s_path_None.npy' % (subject))\n",
    "    data_MLF= np.load('connectome_inference/subject_%s_path_MLF_left.npy' % (subject))\n",
    "    data_IFO= np.load('connectome_inference/subject_%s_path_IFO_left.npy' % (subject))  \n",
    "    \n",
    "    data=-(data_None-data_MLF)\n",
    "    plot_figure(data,subject,'IMLF - Intact')\n",
    "    print('Subject: ', subject, \"bundle: \", 'Intact-MLF')\n",
    "    print('t-test: for BC vs EF: ', stats.ttest_ind(data[1]-data[2], data[4]-data[5]))\n",
    "    print('t-test: for AB vs DE: ', stats.ttest_ind(data[0]-data[1], data[3]-data[4]))\n",
    "                           \n",
    "    data=-(data_IFO-data_MLF)\n",
    "    plot_figure(data,subject,'MLF - IFO')\n",
    "    print('Subject: ', subject, \"bundle: \", 'IFO-MLF')\n",
    "    print('t-test: for BC vs EF: ', stats.ttest_ind(data[1]-data[2], data[4]-data[5]))\n",
    "    print('t-test: for AB vs DE: ', stats.ttest_ind(data[0]-data[1], data[3]-data[4]))\n",
    "                           \n",
    "                           "
   ]
  },
  {
   "cell_type": "code",
   "execution_count": null,
   "metadata": {},
   "outputs": [],
   "source": []
  }
 ],
 "metadata": {
  "kernelspec": {
   "display_name": "Python 3",
   "language": "python",
   "name": "python3"
  },
  "language_info": {
   "codemirror_mode": {
    "name": "ipython",
    "version": 3
   },
   "file_extension": ".py",
   "mimetype": "text/x-python",
   "name": "python",
   "nbconvert_exporter": "python",
   "pygments_lexer": "ipython3",
   "version": "3.7.6"
  }
 },
 "nbformat": 4,
 "nbformat_minor": 4
}
