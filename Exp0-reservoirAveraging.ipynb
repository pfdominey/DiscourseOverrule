{
 "cells": [
  {
   "cell_type": "code",
   "execution_count": 1,
   "metadata": {},
   "outputs": [
    {
     "name": "stderr",
     "output_type": "stream",
     "text": [
      "Using Numpy backend.\n"
     ]
    }
   ],
   "source": [
    "#import cupy as cp\n",
    "from easyesn.optimizers import GradientOptimizer\n",
    "from easyesn import PredictionESN\n",
    "from easyesn.optimizers import GridSearchOptimizer\n",
    "from easyesn import helper as hlp\n",
    "import numpy as np\n",
    "from wikipedia2vec import Wikipedia2Vec\n",
    "\n",
    "np.random.seed(1)\n",
    "vectorDim = 100\n",
    "\n",
    "numNode = 100\n",
    "\n",
    "inputDataTraining = np.load('./trainingData_averaging/inputDataTraining_4k_average.npy')\n",
    "outputDataTraining = np.load('./trainingData_averaging/outputDataTraining_4k_average.npy')\n",
    "\n"
   ]
  },
  {
   "cell_type": "code",
   "execution_count": 2,
   "metadata": {},
   "outputs": [],
   "source": [
    "esn = PredictionESN(n_input=vectorDim, n_output=vectorDim, n_reservoir=numNode, leakingRate=0.2, regressionParameters=[1e-2], solver=\"lsqr\", feedback=False)\n",
    "#esn = PredictionESN(n_input=vectorDim, n_output=vectorDim, n_reservoir=numNode, leakingRate=0.05, regressionParameters=[1e-2], solver=\"lsqr\", feedback=False)"
   ]
  },
  {
   "cell_type": "code",
   "execution_count": 3,
   "metadata": {
    "scrolled": true
   },
   "outputs": [
    {
     "name": "stderr",
     "output_type": "stream",
     "text": [
      "100% (1526210 of 1526210) |##############| Elapsed Time: 0:00:56 Time:  0:00:56\n"
     ]
    },
    {
     "data": {
      "text/plain": [
       "0.06841102701840343"
      ]
     },
     "execution_count": 3,
     "metadata": {},
     "output_type": "execute_result"
    }
   ],
   "source": [
    "# this is the reservoir training, allow it a minute or two to complete\n",
    "esn.fit(inputDataTraining, outputDataTraining, transientTime=\"Auto\", verbose=1)"
   ]
  },
  {
   "cell_type": "code",
   "execution_count": 4,
   "metadata": {},
   "outputs": [
    {
     "name": "stdout",
     "output_type": "stream",
     "text": [
      "['peanuts', 'snacks', 'bowl', 'bar', 'people', 'eating', 'chips', 'drinking', 'beer', 'watching', 'football', 'game', 'woman', 'saw', 'dancing', 'peanut', 'big', 'smile', 'his', 'face', 'peanut', 'singing', 'girl', 'just', 'met', 'judging', 'song', 'peanut', 'totally', 'crazy', 'her', 'woman', 'thought', 'really', 'cute', 'see', 'peanut', 'singing', 'dancing', 'peanut']\n"
     ]
    }
   ],
   "source": [
    "wiki2vec = Wikipedia2Vec.load('enwiki_20180420_100d.pkl')\n",
    "\n",
    "#discourse_words = ['peanut', 'woman', 'saw', 'dancing', 'peanut', 'big', 'smile', 'his', 'face', 'peanut', 'singing', 'girl', 'just', 'met', 'judging', 'song', 'peanut', 'totally', 'crazy', 'her', 'woman', 'thought', 'really', 'cute', 'see', 'peanut', 'singing', 'dancing', 'peanut']\n",
    "discourse_words = ['peanuts', 'snacks', 'bowl', 'bar', 'people', 'eating', 'chips', 'drinking', 'beer', 'watching', 'football', 'game', 'woman', 'saw', 'dancing', 'peanut', 'big', 'smile', 'his', 'face', 'peanut', 'singing', 'girl', 'just', 'met', 'judging', 'song', 'peanut', 'totally', 'crazy', 'her', 'woman', 'thought', 'really', 'cute', 'see', 'peanut', 'singing', 'dancing', 'peanut']\n",
    "print(discourse_words)"
   ]
  },
  {
   "cell_type": "code",
   "execution_count": 5,
   "metadata": {},
   "outputs": [
    {
     "name": "stdout",
     "output_type": "stream",
     "text": [
      "(0, 100)\n",
      "(40, 100)\n"
     ]
    }
   ],
   "source": [
    "inputDataTesting = np.empty((0,vectorDim))\n",
    "print(inputDataTesting.shape)\n",
    "\n",
    "for num in range(len(discourse_words)):\n",
    "    inputDataTesting = np.append(inputDataTesting, np.array([wiki2vec.get_word_vector(discourse_words[num])]), axis=0)\n",
    "print(inputDataTesting.shape)"
   ]
  },
  {
   "cell_type": "code",
   "execution_count": 8,
   "metadata": {},
   "outputs": [],
   "source": [
    "prediction = esn.predict(inputDataTesting)\n",
    "#print(prediction)\n"
   ]
  },
  {
   "cell_type": "code",
   "execution_count": 9,
   "metadata": {},
   "outputs": [
    {
     "name": "stdout",
     "output_type": "stream",
     "text": [
      "[0.57851908 0.66425371 0.72951539 0.76468353 0.79772415 0.84062296\n",
      " 0.85539531 0.86801684 0.88030313 0.88047699 0.87954655 0.89149036\n",
      " 0.89954159 0.89976375 0.90571927 0.91770126 0.9174908  0.91113495\n",
      " 0.90213749 0.90415279 0.92365104 0.91640751 0.91241582 0.90644827\n",
      " 0.90358012 0.90317002 0.90290133 0.92376863 0.90945512 0.91698872\n",
      " 0.90751064 0.90720859 0.90047998 0.90559771 0.90928692 0.90079037\n",
      " 0.92990363 0.9290571  0.92978741 0.94388407]\n"
     ]
    }
   ],
   "source": [
    "def cos_sim(v1, v2):\n",
    "    return np.dot(v1, v2) / (np.linalg.norm(v1) * np.linalg.norm(v2))\n",
    "\n",
    "\n",
    "accuracy_trajectory = np.array([])\n",
    "\n",
    "for num in range(len(discourse_words)):\n",
    "    #print(discourse_words[num])\n",
    "    if num == 0:\n",
    "        discourse_vector4trajectory = wiki2vec.get_word_vector(discourse_words[num])\n",
    "    else:\n",
    "        discourse_vector4trajectory = (num * discourse_vector4trajectory + wiki2vec.get_word_vector(discourse_words[num])) / (num + 1)\n",
    "    accuracy_trajectory = np.append(accuracy_trajectory, cos_sim(discourse_vector4trajectory, prediction[num]))\n",
    "print(accuracy_trajectory)"
   ]
  },
  {
   "cell_type": "code",
   "execution_count": 10,
   "metadata": {},
   "outputs": [
    {
     "data": {
      "image/png": "[encoded data removed]",
      "text/plain": [
       "<Figure size 432x288 with 1 Axes>"
      ]
     },
     "metadata": {
      "needs_background": "light"
     },
     "output_type": "display_data"
    }
   ],
   "source": [
    "import matplotlib.pyplot as plt\n",
    "\n",
    "fig, ax = plt.subplots()\n",
    "t = np.linspace(1, len(discourse_words), len(discourse_words))\n",
    "\n",
    "ax.set_xlabel('Number of words')\n",
    "ax.set_ylabel('Semantic relatedness')\n",
    "ax.set_title(r'Reservoir aggregation accuracy')\n",
    "ax.set_xlim([1,len(discourse_words)])\n",
    "ax.set_ylim([0, 1])\n",
    "\n",
    "ax.plot(t, accuracy_trajectory, color=\"red\")\n",
    "\n",
    "#ax.legend(loc=0)\n",
    "fig.tight_layout()\n",
    "plt.savefig('Exp0-accuracy_trajectory-R1.png', dpi=1200)\n",
    "plt.show()"
   ]
  },
  {
   "cell_type": "code",
   "execution_count": null,
   "metadata": {},
   "outputs": [],
   "source": []
  },
  {
   "cell_type": "code",
   "execution_count": null,
   "metadata": {},
   "outputs": [],
   "source": []
  },
  {
   "cell_type": "code",
   "execution_count": null,
   "metadata": {},
   "outputs": [],
   "source": []
  }
 ],
 "metadata": {
  "kernelspec": {
   "display_name": "Python 3",
   "language": "python",
   "name": "python3"
  },
  "language_info": {
   "codemirror_mode": {
    "name": "ipython",
    "version": 3
   },
   "file_extension": ".py",
   "mimetype": "text/x-python",
   "name": "python",
   "nbconvert_exporter": "python",
   "pygments_lexer": "ipython3",
   "version": "3.7.6"
  }
 },
 "nbformat": 4,
 "nbformat_minor": 1
}
